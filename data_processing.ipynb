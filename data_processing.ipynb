{
 "cells": [
  {
   "cell_type": "code",
   "execution_count": 1,
   "metadata": {},
   "outputs": [],
   "source": [
    "# -*- coding: utf-8 -*-\n",
    "import pandas as pd\n",
    "import json\n",
    "import numpy as np"
   ]
  },
  {
   "cell_type": "code",
   "execution_count": 2,
   "metadata": {},
   "outputs": [],
   "source": [
    "def data_prepro(chat_user_info):\n",
    "\n",
    "    region = []\n",
    "    city = []\n",
    "    signature = []\n",
    "    count = 0\n",
    "    for one in chat_user_info:\n",
    "        one_info = json.loads(one)\n",
    "        region.append(one_info[0]['Province'])\n",
    "        city.append(one_info[0]['City'])\n",
    "        signature.append(one_info[0]['Signature'])\n",
    "        # check if the userinfo was saved in database\n",
    "        count += 1\n",
    "        if one_info[0]['Province']:\n",
    "            continue\n",
    "            print(count)\n",
    "            print(one_info[0]['NickName'])\n",
    "    return region, city, signature"
   ]
  },
  {
   "cell_type": "code",
   "execution_count": 3,
   "metadata": {},
   "outputs": [
    {
     "data": {
      "text/html": [
       "<div>\n",
       "<style scoped>\n",
       "    .dataframe tbody tr th:only-of-type {\n",
       "        vertical-align: middle;\n",
       "    }\n",
       "\n",
       "    .dataframe tbody tr th {\n",
       "        vertical-align: top;\n",
       "    }\n",
       "\n",
       "    .dataframe thead th {\n",
       "        text-align: right;\n",
       "    }\n",
       "</style>\n",
       "<table border=\"1\" class=\"dataframe\">\n",
       "  <thead>\n",
       "    <tr style=\"text-align: right;\">\n",
       "      <th></th>\n",
       "      <th>user_nickname</th>\n",
       "      <th>user_info</th>\n",
       "      <th>content</th>\n",
       "      <th>robot_displayname</th>\n",
       "      <th>time</th>\n",
       "      <th>region</th>\n",
       "      <th>city</th>\n",
       "    </tr>\n",
       "  </thead>\n",
       "  <tbody>\n",
       "    <tr>\n",
       "      <th>3091</th>\n",
       "      <td>patrick和仔</td>\n",
       "      <td>[{\"Sex\": 0, \"Uin\": 0, \"City\": \"\", \"Alias\": \"\",...</td>\n",
       "      <td>NaN</td>\n",
       "      <td>NaN</td>\n",
       "      <td>1525133564</td>\n",
       "      <td>NaN</td>\n",
       "      <td>NaN</td>\n",
       "    </tr>\n",
       "    <tr>\n",
       "      <th>3593</th>\n",
       "      <td>J-soap</td>\n",
       "      <td>[{\"Sex\": 2, \"Uin\": 0, \"City\": \"\", \"Alias\": \"\",...</td>\n",
       "      <td>NaN</td>\n",
       "      <td>珍妮m</td>\n",
       "      <td>1525197945</td>\n",
       "      <td>NaN</td>\n",
       "      <td>NaN</td>\n",
       "    </tr>\n",
       "    <tr>\n",
       "      <th>3663</th>\n",
       "      <td>J-soap</td>\n",
       "      <td>[{\"Sex\": 2, \"Uin\": 0, \"City\": \"\", \"Alias\": \"\",...</td>\n",
       "      <td>NaN</td>\n",
       "      <td>珍妮m</td>\n",
       "      <td>1525202539</td>\n",
       "      <td>NaN</td>\n",
       "      <td>NaN</td>\n",
       "    </tr>\n",
       "    <tr>\n",
       "      <th>3737</th>\n",
       "      <td>房东群村助</td>\n",
       "      <td>[{\"Sex\": 0, \"Uin\": 0, \"City\": \"\", \"Alias\": \"\",...</td>\n",
       "      <td>NaN</td>\n",
       "      <td>珍妮姐</td>\n",
       "      <td>1525206279</td>\n",
       "      <td>NaN</td>\n",
       "      <td>NaN</td>\n",
       "    </tr>\n",
       "    <tr>\n",
       "      <th>4125</th>\n",
       "      <td>J-soap</td>\n",
       "      <td>[{\"Sex\": 2, \"Uin\": 0, \"City\": \"\", \"Alias\": \"\",...</td>\n",
       "      <td>NaN</td>\n",
       "      <td>珍妮m</td>\n",
       "      <td>1525227539</td>\n",
       "      <td>NaN</td>\n",
       "      <td>NaN</td>\n",
       "    </tr>\n",
       "    <tr>\n",
       "      <th>4399</th>\n",
       "      <td>J-soap</td>\n",
       "      <td>[{\"Sex\": 2, \"Uin\": 0, \"City\": \"\", \"Alias\": \"\",...</td>\n",
       "      <td>NaN</td>\n",
       "      <td>珍妮m</td>\n",
       "      <td>1525267761</td>\n",
       "      <td>NaN</td>\n",
       "      <td>NaN</td>\n",
       "    </tr>\n",
       "    <tr>\n",
       "      <th>4989</th>\n",
       "      <td>J-soap</td>\n",
       "      <td>[{\"AttrStatus\": 102437, \"MemberStatus\": 0, \"Co...</td>\n",
       "      <td>NaN</td>\n",
       "      <td>珍妮m</td>\n",
       "      <td>1525306690</td>\n",
       "      <td>NaN</td>\n",
       "      <td>NaN</td>\n",
       "    </tr>\n",
       "    <tr>\n",
       "      <th>4992</th>\n",
       "      <td>J-soap</td>\n",
       "      <td>[{\"AttrStatus\": 102437, \"MemberStatus\": 0, \"Co...</td>\n",
       "      <td>NaN</td>\n",
       "      <td>珍妮m</td>\n",
       "      <td>1525306734</td>\n",
       "      <td>NaN</td>\n",
       "      <td>NaN</td>\n",
       "    </tr>\n",
       "    <tr>\n",
       "      <th>5868</th>\n",
       "      <td>J-soap</td>\n",
       "      <td>[{\"VerifyFlag\": 0, \"IsOwner\": 0, \"HeadImgUrl\":...</td>\n",
       "      <td>NaN</td>\n",
       "      <td>珍妮m</td>\n",
       "      <td>1525394299</td>\n",
       "      <td>NaN</td>\n",
       "      <td>NaN</td>\n",
       "    </tr>\n",
       "    <tr>\n",
       "      <th>6151</th>\n",
       "      <td>J-soap</td>\n",
       "      <td>[{\"VerifyFlag\": 0, \"IsOwner\": 0, \"HeadImgUrl\":...</td>\n",
       "      <td>NaN</td>\n",
       "      <td>珍妮m</td>\n",
       "      <td>1525404301</td>\n",
       "      <td>NaN</td>\n",
       "      <td>NaN</td>\n",
       "    </tr>\n",
       "    <tr>\n",
       "      <th>6439</th>\n",
       "      <td>J-soap</td>\n",
       "      <td>[{\"VerifyFlag\": 0, \"IsOwner\": 0, \"HeadImgUrl\":...</td>\n",
       "      <td>NaN</td>\n",
       "      <td>珍妮m</td>\n",
       "      <td>1525443005</td>\n",
       "      <td>NaN</td>\n",
       "      <td>NaN</td>\n",
       "    </tr>\n",
       "    <tr>\n",
       "      <th>6533</th>\n",
       "      <td>J-soap</td>\n",
       "      <td>[{\"VerifyFlag\": 0, \"IsOwner\": 0, \"HeadImgUrl\":...</td>\n",
       "      <td>NaN</td>\n",
       "      <td>珍妮m</td>\n",
       "      <td>1525446519</td>\n",
       "      <td>NaN</td>\n",
       "      <td>NaN</td>\n",
       "    </tr>\n",
       "  </tbody>\n",
       "</table>\n",
       "</div>"
      ],
      "text/plain": [
       "     user_nickname                                          user_info content  \\\n",
       "3091     patrick和仔  [{\"Sex\": 0, \"Uin\": 0, \"City\": \"\", \"Alias\": \"\",...     NaN   \n",
       "3593       J-soap   [{\"Sex\": 2, \"Uin\": 0, \"City\": \"\", \"Alias\": \"\",...     NaN   \n",
       "3663       J-soap   [{\"Sex\": 2, \"Uin\": 0, \"City\": \"\", \"Alias\": \"\",...     NaN   \n",
       "3737         房东群村助  [{\"Sex\": 0, \"Uin\": 0, \"City\": \"\", \"Alias\": \"\",...     NaN   \n",
       "4125       J-soap   [{\"Sex\": 2, \"Uin\": 0, \"City\": \"\", \"Alias\": \"\",...     NaN   \n",
       "4399       J-soap   [{\"Sex\": 2, \"Uin\": 0, \"City\": \"\", \"Alias\": \"\",...     NaN   \n",
       "4989       J-soap   [{\"AttrStatus\": 102437, \"MemberStatus\": 0, \"Co...     NaN   \n",
       "4992       J-soap   [{\"AttrStatus\": 102437, \"MemberStatus\": 0, \"Co...     NaN   \n",
       "5868       J-soap   [{\"VerifyFlag\": 0, \"IsOwner\": 0, \"HeadImgUrl\":...     NaN   \n",
       "6151       J-soap   [{\"VerifyFlag\": 0, \"IsOwner\": 0, \"HeadImgUrl\":...     NaN   \n",
       "6439       J-soap   [{\"VerifyFlag\": 0, \"IsOwner\": 0, \"HeadImgUrl\":...     NaN   \n",
       "6533       J-soap   [{\"VerifyFlag\": 0, \"IsOwner\": 0, \"HeadImgUrl\":...     NaN   \n",
       "\n",
       "     robot_displayname        time  region  city  \n",
       "3091               NaN  1525133564     NaN   NaN  \n",
       "3593               珍妮m  1525197945     NaN   NaN  \n",
       "3663               珍妮m  1525202539     NaN   NaN  \n",
       "3737               珍妮姐  1525206279     NaN   NaN  \n",
       "4125               珍妮m  1525227539     NaN   NaN  \n",
       "4399               珍妮m  1525267761     NaN   NaN  \n",
       "4989               珍妮m  1525306690     NaN   NaN  \n",
       "4992               珍妮m  1525306734     NaN   NaN  \n",
       "5868               珍妮m  1525394299     NaN   NaN  \n",
       "6151               珍妮m  1525404301     NaN   NaN  \n",
       "6439               珍妮m  1525443005     NaN   NaN  \n",
       "6533               珍妮m  1525446519     NaN   NaN  "
      ]
     },
     "execution_count": 3,
     "metadata": {},
     "output_type": "execute_result"
    }
   ],
   "source": [
    "df_chat = pd.read_csv('/home/wilson/Downloads/group_chat_content(13).csv',encoding='utf_8_sig') # the file's name should be varied\n",
    "df_chat = df_chat.drop(['id','group_displayname','content_type','robot_id','user_signature'],axis=1)\n",
    "df_chat[df_chat['content'].isnull()]"
   ]
  },
  {
   "cell_type": "code",
   "execution_count": 4,
   "metadata": {},
   "outputs": [
    {
     "data": {
      "text/html": [
       "<div>\n",
       "<style scoped>\n",
       "    .dataframe tbody tr th:only-of-type {\n",
       "        vertical-align: middle;\n",
       "    }\n",
       "\n",
       "    .dataframe tbody tr th {\n",
       "        vertical-align: top;\n",
       "    }\n",
       "\n",
       "    .dataframe thead th {\n",
       "        text-align: right;\n",
       "    }\n",
       "</style>\n",
       "<table border=\"1\" class=\"dataframe\">\n",
       "  <thead>\n",
       "    <tr style=\"text-align: right;\">\n",
       "      <th></th>\n",
       "      <th>user_nickname</th>\n",
       "      <th>user_info</th>\n",
       "      <th>content</th>\n",
       "      <th>robot_displayname</th>\n",
       "      <th>time</th>\n",
       "      <th>region</th>\n",
       "      <th>city</th>\n",
       "    </tr>\n",
       "  </thead>\n",
       "  <tbody>\n",
       "  </tbody>\n",
       "</table>\n",
       "</div>"
      ],
      "text/plain": [
       "Empty DataFrame\n",
       "Columns: [user_nickname, user_info, content, robot_displayname, time, region, city]\n",
       "Index: []"
      ]
     },
     "execution_count": 4,
     "metadata": {},
     "output_type": "execute_result"
    }
   ],
   "source": [
    "df_chat.dropna(subset=['content'],how='any',inplace=True)\n",
    "df_chat[df_chat['user_info'].isnull()]"
   ]
  },
  {
   "cell_type": "code",
   "execution_count": 5,
   "metadata": {},
   "outputs": [],
   "source": [
    "# df_chat[df_chat['content'].isnull()]"
   ]
  },
  {
   "cell_type": "code",
   "execution_count": 6,
   "metadata": {},
   "outputs": [
    {
     "data": {
      "text/plain": [
       "6913"
      ]
     },
     "execution_count": 6,
     "metadata": {},
     "output_type": "execute_result"
    }
   ],
   "source": [
    "len(df_chat)"
   ]
  },
  {
   "cell_type": "code",
   "execution_count": 7,
   "metadata": {},
   "outputs": [],
   "source": [
    "chat_user_info = df_chat['user_info'].astype(str)\n",
    "region, city, signature = data_prepro(chat_user_info)"
   ]
  },
  {
   "cell_type": "code",
   "execution_count": 8,
   "metadata": {},
   "outputs": [],
   "source": [
    "# there exit an issue, the code cannot handle empty user_info. What I am doing is find where the empty \n",
    "# 'user_info' is and manually remove it from the mysql database\n",
    "\n",
    "df_chat['region']=region\n",
    "df_chat['city']=city\n",
    "df_chat['signature']= signature\n",
    "df_chat_trim = df_chat.drop(['user_info','region','city'],axis=1)\n",
    "df_chat_trim.head()\n",
    "# delete spaces in user_nickname\n",
    "df_chat_trim['user_nickname'] = df_chat_trim['user_nickname'].str.replace(\" \",\"\")\n",
    "df_chat_trim.to_csv('/home/wilson/Downloads/database/df_chat_trim.csv',index=False, header=True,encoding='utf_8_sig')"
   ]
  },
  {
   "cell_type": "code",
   "execution_count": 9,
   "metadata": {},
   "outputs": [],
   "source": [
    "# dataset only have user_nickname , content, and signature\n",
    "df_content_sig = df_chat_trim.drop(['robot_displayname','time'],axis=1)"
   ]
  },
  {
   "cell_type": "code",
   "execution_count": 10,
   "metadata": {},
   "outputs": [],
   "source": [
    "df_content_sig.dropna(subset=['user_nickname'],inplace=True)"
   ]
  },
  {
   "cell_type": "code",
   "execution_count": 11,
   "metadata": {},
   "outputs": [],
   "source": [
    "# df.dropna(subset=['LABEL'],inplace=True)"
   ]
  },
  {
   "cell_type": "code",
   "execution_count": 12,
   "metadata": {},
   "outputs": [],
   "source": [
    "df_content_sig.to_csv('/home/wilson/Desktop/databases/content_sig_labeling_withNaN.csv',index=False, header=True,encoding='utf_8_sig')"
   ]
  },
  {
   "cell_type": "code",
   "execution_count": 13,
   "metadata": {},
   "outputs": [
    {
     "data": {
      "text/plain": [
       "6913"
      ]
     },
     "execution_count": 13,
     "metadata": {},
     "output_type": "execute_result"
    }
   ],
   "source": [
    "len(df_content_sig)"
   ]
  },
  {
   "cell_type": "code",
   "execution_count": null,
   "metadata": {},
   "outputs": [],
   "source": []
  }
 ],
 "metadata": {
  "kernelspec": {
   "display_name": "Python 3",
   "language": "python",
   "name": "python3"
  },
  "language_info": {
   "codemirror_mode": {
    "name": "ipython",
    "version": 3
   },
   "file_extension": ".py",
   "mimetype": "text/x-python",
   "name": "python",
   "nbconvert_exporter": "python",
   "pygments_lexer": "ipython3",
   "version": "3.5.2"
  }
 },
 "nbformat": 4,
 "nbformat_minor": 2
}
